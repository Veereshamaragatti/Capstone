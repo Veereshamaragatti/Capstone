{
 "cells": [
  {
   "cell_type": "code",
   "execution_count": 21,
   "metadata": {},
   "outputs": [
    {
     "ename": "ModuleNotFoundError",
     "evalue": "No module named 'moviepy.editor'",
     "output_type": "error",
     "traceback": [
      "\u001b[0;31m---------------------------------------------------------------------------\u001b[0m",
      "\u001b[0;31mModuleNotFoundError\u001b[0m                       Traceback (most recent call last)",
      "Cell \u001b[0;32mIn[21], line 3\u001b[0m\n\u001b[1;32m      1\u001b[0m \u001b[38;5;28;01mfrom\u001b[39;00m \u001b[38;5;21;01mpydub\u001b[39;00m \u001b[38;5;28;01mimport\u001b[39;00m AudioSegment\n\u001b[1;32m      2\u001b[0m \u001b[38;5;28;01mfrom\u001b[39;00m \u001b[38;5;21;01mpydub\u001b[39;00m\u001b[38;5;21;01m.\u001b[39;00m\u001b[38;5;21;01msilence\u001b[39;00m \u001b[38;5;28;01mimport\u001b[39;00m detect_nonsilent\n\u001b[0;32m----> 3\u001b[0m \u001b[38;5;28;01mimport\u001b[39;00m \u001b[38;5;21;01mmoviepy\u001b[39;00m\u001b[38;5;21;01m.\u001b[39;00m\u001b[38;5;21;01meditor\u001b[39;00m \u001b[38;5;28;01mas\u001b[39;00m \u001b[38;5;21;01mmp\u001b[39;00m\n\u001b[1;32m      4\u001b[0m \u001b[38;5;28;01mimport\u001b[39;00m \u001b[38;5;21;01mnoisereduce\u001b[39;00m \u001b[38;5;28;01mas\u001b[39;00m \u001b[38;5;21;01mnr\u001b[39;00m\n\u001b[1;32m      5\u001b[0m \u001b[38;5;28;01mimport\u001b[39;00m \u001b[38;5;21;01mnumpy\u001b[39;00m \u001b[38;5;28;01mas\u001b[39;00m \u001b[38;5;21;01mnp\u001b[39;00m\n",
      "\u001b[0;31mModuleNotFoundError\u001b[0m: No module named 'moviepy.editor'"
     ]
    }
   ],
   "source": [
    "from pydub import AudioSegment\n",
    "from pydub.silence import detect_nonsilent\n",
    "import moviepy.editor as mp\n",
    "import noisereduce as nr\n",
    "import numpy as np\n",
    "import librosa\n",
    "from moviepy import *\n",
    "\n",
    "# Step 1: Extract Audio from Video\n",
    "def extract_audio_from_video(video_path, audio_path):\n",
    "    video = mp.VideoFileClip(video_path)\n",
    "    video.audio.write_audiofile(audio_path)\n",
    "\n",
    "# Step 2: Remove Noise from Audio\n",
    "def reduce_noise(audio_path, output_path):\n",
    "    # Load audio file\n",
    "    audio, sr = librosa.load(audio_path, sr=None)\n",
    "\n",
    "    # Apply noise reduction\n",
    "    reduced_audio = nr.reduce_noise(y=audio, sr=sr, y_noise=audio[:sr*1])  # Assuming first 1 second is noise\n",
    "\n",
    "    # Save denoised audio\n",
    "    librosa.output.write_wav(output_path, reduced_audio, sr)\n",
    "\n",
    "# Step 3: Remove Silence from Audio\n",
    "def remove_silence(audio_path, output_path, silence_thresh=-40, min_silence_len=1000):\n",
    "    # Load audio file\n",
    "    audio = AudioSegment.from_file(audio_path, format=\"wav\")\n",
    "\n",
    "    # Detect non-silent chunks\n",
    "    nonsilent_chunks = detect_nonsilent(audio, min_silence_len=min_silence_len, silence_thresh=silence_thresh)\n",
    "\n",
    "    # Combine non-silent chunks\n",
    "    nonsilent_audio = AudioSegment.silent(duration=0)\n",
    "    for start, end in nonsilent_chunks:\n",
    "        nonsilent_audio += audio[start:end]\n",
    "\n",
    "    # Export the result\n",
    "    nonsilent_audio.export(output_path, format=\"wav\")\n",
    "\n",
    "# Step 4: Replace Original Audio in Video\n",
    "def replace_audio_in_video(video_path, audio_path, output_video_path):\n",
    "    video = mp.VideoFileClip(video_path)\n",
    "    audio = mp.AudioFileClip(audio_path)\n",
    "    video = video.set_audio(audio)\n",
    "    video.write_videofile(output_video_path, codec=\"libx264\", audio_codec=\"aac\")\n",
    "\n",
    "# Main Function\n",
    "def process_video(video_path, output_video_path):\n",
    "    temp_audio_path = \"temp_audio.wav\"\n",
    "    denoised_audio_path = \"denoised_audio.wav\"\n",
    "    nonsilent_audio_path = \"nonsilent_audio.wav\"\n",
    "\n",
    "    # Extract audio from video\n",
    "    extract_audio_from_video(video_path, temp_audio_path)\n",
    "\n",
    "    # Reduce noise in audio\n",
    "    reduce_noise(temp_audio_path, denoised_audio_path)\n",
    "\n",
    "    # Remove silence from audio\n",
    "    remove_silence(denoised_audio_path, nonsilent_audio_path)\n",
    "\n",
    "    # Replace audio in video\n",
    "    replace_audio_in_video(video_path, nonsilent_audio_path, output_video_path)\n",
    "\n",
    "# Example Usage\n",
    "video_input = \"Unit-2 TA Session 1.mp4\"\n",
    "video_output = \"output_video.mp4\"\n",
    "process_video(video_input, video_output)\n"
   ]
  },
  {
   "cell_type": "code",
   "execution_count": null,
   "metadata": {},
   "outputs": [],
   "source": []
  }
 ],
 "metadata": {
  "kernelspec": {
   "display_name": "Python 3 (ipykernel)",
   "language": "python",
   "name": "python3"
  },
  "language_info": {
   "codemirror_mode": {
    "name": "ipython",
    "version": 3
   },
   "file_extension": ".py",
   "mimetype": "text/x-python",
   "name": "python",
   "nbconvert_exporter": "python",
   "pygments_lexer": "ipython3",
   "version": "3.12.7"
  }
 },
 "nbformat": 4,
 "nbformat_minor": 2
}
